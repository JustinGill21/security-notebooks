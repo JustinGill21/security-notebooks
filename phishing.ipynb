{
 "cells": [
  {
   "cell_type": "markdown",
   "id": "e3075eb7",
   "metadata": {},
   "source": [
    "https://archive.ics.uci.edu/ml/datasets/phishing+websites\n",
    "# Business Problem / Understanding\n",
    "\n",
    "Phishing URLS are submitted to Phish Tank, they are classified by the community as being either actual phishes or not. Therefore, we have a classification task.\n",
    "\n",
    "What features can we use to classify links as valid phishes with ML?\n",
    "\n",
    "We can see some valid phishes by using this query: https://phishtank.org/phish_search.php?valid=y&active=All&Search=Search\n",
    "\n",
    "Here are some example phish URLs: \n",
    "\n",
    "- https://help-recovery-identity-support-international.web.id/confirmid.php\n",
    "- https://234565676868--3456556757.repl.co/\n",
    "\n",
    "\n",
    "    \n",
    "\n",
    "# Data Understanding\n",
    "\n",
    "Let's look at this one:\n",
    "- https://help-recovery-identity-support-international.web.id/confirmid.php\n",
    "\n",
    "We can break it into its URL pieces: \n",
    "- PATH: /confirmid.php\n",
    "    * Is it a \".php\"?\n",
    "        - Binary Feature\n",
    "    * How long is it?\n",
    "        - Continuous Feature\n",
    "    * Number of unique characters in the path?\n",
    "- DOMAIN: help-recovery-identity-support-international.web.id\n",
    "    * Text analytics, do certain substrings give away phishing websites?\n",
    "    * Is it a readable sentence? or just gibberish URL\n",
    "    * Is there a top level domain (.com, .org) that is NOT the last entry in the list?\n",
    "        - Count of subdomains\n",
    "    * WHOIS lookup with ICANN - how long has the domain been registered?\n",
    "\n",
    "- PROTOCOL: https://"
   ]
  }
 ],
 "metadata": {
  "kernelspec": {
   "display_name": "Python 3 (ipykernel)",
   "language": "python",
   "name": "python3"
  },
  "language_info": {
   "codemirror_mode": {
    "name": "ipython",
    "version": 3
   },
   "file_extension": ".py",
   "mimetype": "text/x-python",
   "name": "python",
   "nbconvert_exporter": "python",
   "pygments_lexer": "ipython3",
   "version": "3.9.7"
  }
 },
 "nbformat": 4,
 "nbformat_minor": 5
}
